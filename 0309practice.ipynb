{
  "nbformat": 4,
  "nbformat_minor": 0,
  "metadata": {
    "colab": {
      "provenance": [],
      "mount_file_id": "1Nfi-4GbsA46pNtBgRAEb4A3PUeAE7k8o",
      "authorship_tag": "ABX9TyN6KhpEHWWoW+t6yODa0iGX",
      "include_colab_link": true
    },
    "kernelspec": {
      "name": "python3",
      "display_name": "Python 3"
    },
    "language_info": {
      "name": "python"
    }
  },
  "cells": [
    {
      "cell_type": "markdown",
      "metadata": {
        "id": "view-in-github",
        "colab_type": "text"
      },
      "source": [
        "<a href=\"https://colab.research.google.com/github/govldbstj/AIpractice/blob/main/0309practice.ipynb\" target=\"_parent\"><img src=\"https://colab.research.google.com/assets/colab-badge.svg\" alt=\"Open In Colab\"/></a>"
      ]
    },
    {
      "cell_type": "markdown",
      "source": [
        "### IRIS dataset"
      ],
      "metadata": {
        "id": "a17LkOTdZJPv"
      }
    },
    {
      "cell_type": "code",
      "source": [
        "from google.colab import drive\n",
        "drive.mount('/content/drive')"
      ],
      "metadata": {
        "colab": {
          "base_uri": "https://localhost:8080/"
        },
        "id": "zPzq-Cya6hpM",
        "outputId": "adbb6107-6b43-4c1e-9d0e-38076b24015d"
      },
      "execution_count": null,
      "outputs": [
        {
          "output_type": "stream",
          "name": "stdout",
          "text": [
            "Drive already mounted at /content/drive; to attempt to forcibly remount, call drive.mount(\"/content/drive\", force_remount=True).\n"
          ]
        }
      ]
    },
    {
      "cell_type": "code",
      "execution_count": 42,
      "metadata": {
        "id": "KfjlfT6GX23X"
      },
      "outputs": [],
      "source": [
        "import matplotlib.pyplot as plt\n",
        "import pandas as pd\n",
        "from sklearn import datasets\n",
        "from sklearn.decomposition import PCA\n",
        "\n",
        "import plotly.express as px "
      ]
    },
    {
      "cell_type": "code",
      "source": [
        "train = pd.read_csv('/content/drive/MyDrive/Colab Notebooks/iris/train.csv')\n",
        "\n",
        "test = pd.read_csv('/content/drive/MyDrive/Colab Notebooks/iris/test.csv')\n",
        "\n",
        "submission = pd.read_csv('/content/drive/MyDrive/Colab Notebooks/iris/sample_submission.csv')"
      ],
      "metadata": {
        "id": "9cQa0SsT69Pv"
      },
      "execution_count": 43,
      "outputs": []
    },
    {
      "cell_type": "markdown",
      "source": [
        "## EDA</br>\n",
        "Exploratory Data Analysis"
      ],
      "metadata": {
        "id": "xwQ6jNn8YPjA"
      }
    },
    {
      "cell_type": "code",
      "source": [
        "iris = train"
      ],
      "metadata": {
        "id": "BAk_RN0u8PpJ"
      },
      "execution_count": 44,
      "outputs": []
    },
    {
      "cell_type": "code",
      "source": [
        "# 상위 5개\n",
        "iris.head()"
      ],
      "metadata": {
        "colab": {
          "base_uri": "https://localhost:8080/",
          "height": 268
        },
        "id": "_MhfQJN31z-k",
        "outputId": "cd8b99bc-61e3-40cd-b08b-6f4e5c2a6558"
      },
      "execution_count": 45,
      "outputs": [
        {
          "output_type": "execute_result",
          "data": {
            "text/plain": [
              "   id  sepal length (cm)  sepal width (cm)  petal length (cm)  \\\n",
              "0   0                4.6               3.6                1.0   \n",
              "1   1                5.7               4.4                1.5   \n",
              "2   2                6.7               3.1                4.4   \n",
              "3   3                4.8               3.4                1.6   \n",
              "4   4                4.4               3.2                1.3   \n",
              "\n",
              "   petal width (cm)  species  \n",
              "0               0.2        0  \n",
              "1               0.4        0  \n",
              "2               1.4        1  \n",
              "3               0.2        0  \n",
              "4               0.2        0  "
            ],
            "text/html": [
              "\n",
              "  <div id=\"df-b3d415d0-d72a-4354-9fcf-57524d21eb9f\">\n",
              "    <div class=\"colab-df-container\">\n",
              "      <div>\n",
              "<style scoped>\n",
              "    .dataframe tbody tr th:only-of-type {\n",
              "        vertical-align: middle;\n",
              "    }\n",
              "\n",
              "    .dataframe tbody tr th {\n",
              "        vertical-align: top;\n",
              "    }\n",
              "\n",
              "    .dataframe thead th {\n",
              "        text-align: right;\n",
              "    }\n",
              "</style>\n",
              "<table border=\"1\" class=\"dataframe\">\n",
              "  <thead>\n",
              "    <tr style=\"text-align: right;\">\n",
              "      <th></th>\n",
              "      <th>id</th>\n",
              "      <th>sepal length (cm)</th>\n",
              "      <th>sepal width (cm)</th>\n",
              "      <th>petal length (cm)</th>\n",
              "      <th>petal width (cm)</th>\n",
              "      <th>species</th>\n",
              "    </tr>\n",
              "  </thead>\n",
              "  <tbody>\n",
              "    <tr>\n",
              "      <th>0</th>\n",
              "      <td>0</td>\n",
              "      <td>4.6</td>\n",
              "      <td>3.6</td>\n",
              "      <td>1.0</td>\n",
              "      <td>0.2</td>\n",
              "      <td>0</td>\n",
              "    </tr>\n",
              "    <tr>\n",
              "      <th>1</th>\n",
              "      <td>1</td>\n",
              "      <td>5.7</td>\n",
              "      <td>4.4</td>\n",
              "      <td>1.5</td>\n",
              "      <td>0.4</td>\n",
              "      <td>0</td>\n",
              "    </tr>\n",
              "    <tr>\n",
              "      <th>2</th>\n",
              "      <td>2</td>\n",
              "      <td>6.7</td>\n",
              "      <td>3.1</td>\n",
              "      <td>4.4</td>\n",
              "      <td>1.4</td>\n",
              "      <td>1</td>\n",
              "    </tr>\n",
              "    <tr>\n",
              "      <th>3</th>\n",
              "      <td>3</td>\n",
              "      <td>4.8</td>\n",
              "      <td>3.4</td>\n",
              "      <td>1.6</td>\n",
              "      <td>0.2</td>\n",
              "      <td>0</td>\n",
              "    </tr>\n",
              "    <tr>\n",
              "      <th>4</th>\n",
              "      <td>4</td>\n",
              "      <td>4.4</td>\n",
              "      <td>3.2</td>\n",
              "      <td>1.3</td>\n",
              "      <td>0.2</td>\n",
              "      <td>0</td>\n",
              "    </tr>\n",
              "  </tbody>\n",
              "</table>\n",
              "</div>\n",
              "      <button class=\"colab-df-convert\" onclick=\"convertToInteractive('df-b3d415d0-d72a-4354-9fcf-57524d21eb9f')\"\n",
              "              title=\"Convert this dataframe to an interactive table.\"\n",
              "              style=\"display:none;\">\n",
              "        \n",
              "  <svg xmlns=\"http://www.w3.org/2000/svg\" height=\"24px\"viewBox=\"0 0 24 24\"\n",
              "       width=\"24px\">\n",
              "    <path d=\"M0 0h24v24H0V0z\" fill=\"none\"/>\n",
              "    <path d=\"M18.56 5.44l.94 2.06.94-2.06 2.06-.94-2.06-.94-.94-2.06-.94 2.06-2.06.94zm-11 1L8.5 8.5l.94-2.06 2.06-.94-2.06-.94L8.5 2.5l-.94 2.06-2.06.94zm10 10l.94 2.06.94-2.06 2.06-.94-2.06-.94-.94-2.06-.94 2.06-2.06.94z\"/><path d=\"M17.41 7.96l-1.37-1.37c-.4-.4-.92-.59-1.43-.59-.52 0-1.04.2-1.43.59L10.3 9.45l-7.72 7.72c-.78.78-.78 2.05 0 2.83L4 21.41c.39.39.9.59 1.41.59.51 0 1.02-.2 1.41-.59l7.78-7.78 2.81-2.81c.8-.78.8-2.07 0-2.86zM5.41 20L4 18.59l7.72-7.72 1.47 1.35L5.41 20z\"/>\n",
              "  </svg>\n",
              "      </button>\n",
              "      \n",
              "  <style>\n",
              "    .colab-df-container {\n",
              "      display:flex;\n",
              "      flex-wrap:wrap;\n",
              "      gap: 12px;\n",
              "    }\n",
              "\n",
              "    .colab-df-convert {\n",
              "      background-color: #E8F0FE;\n",
              "      border: none;\n",
              "      border-radius: 50%;\n",
              "      cursor: pointer;\n",
              "      display: none;\n",
              "      fill: #1967D2;\n",
              "      height: 32px;\n",
              "      padding: 0 0 0 0;\n",
              "      width: 32px;\n",
              "    }\n",
              "\n",
              "    .colab-df-convert:hover {\n",
              "      background-color: #E2EBFA;\n",
              "      box-shadow: 0px 1px 2px rgba(60, 64, 67, 0.3), 0px 1px 3px 1px rgba(60, 64, 67, 0.15);\n",
              "      fill: #174EA6;\n",
              "    }\n",
              "\n",
              "    [theme=dark] .colab-df-convert {\n",
              "      background-color: #3B4455;\n",
              "      fill: #D2E3FC;\n",
              "    }\n",
              "\n",
              "    [theme=dark] .colab-df-convert:hover {\n",
              "      background-color: #434B5C;\n",
              "      box-shadow: 0px 1px 3px 1px rgba(0, 0, 0, 0.15);\n",
              "      filter: drop-shadow(0px 1px 2px rgba(0, 0, 0, 0.3));\n",
              "      fill: #FFFFFF;\n",
              "    }\n",
              "  </style>\n",
              "\n",
              "      <script>\n",
              "        const buttonEl =\n",
              "          document.querySelector('#df-b3d415d0-d72a-4354-9fcf-57524d21eb9f button.colab-df-convert');\n",
              "        buttonEl.style.display =\n",
              "          google.colab.kernel.accessAllowed ? 'block' : 'none';\n",
              "\n",
              "        async function convertToInteractive(key) {\n",
              "          const element = document.querySelector('#df-b3d415d0-d72a-4354-9fcf-57524d21eb9f');\n",
              "          const dataTable =\n",
              "            await google.colab.kernel.invokeFunction('convertToInteractive',\n",
              "                                                     [key], {});\n",
              "          if (!dataTable) return;\n",
              "\n",
              "          const docLinkHtml = 'Like what you see? Visit the ' +\n",
              "            '<a target=\"_blank\" href=https://colab.research.google.com/notebooks/data_table.ipynb>data table notebook</a>'\n",
              "            + ' to learn more about interactive tables.';\n",
              "          element.innerHTML = '';\n",
              "          dataTable['output_type'] = 'display_data';\n",
              "          await google.colab.output.renderOutput(dataTable, element);\n",
              "          const docLink = document.createElement('div');\n",
              "          docLink.innerHTML = docLinkHtml;\n",
              "          element.appendChild(docLink);\n",
              "        }\n",
              "      </script>\n",
              "    </div>\n",
              "  </div>\n",
              "  "
            ]
          },
          "metadata": {},
          "execution_count": 45
        }
      ]
    },
    {
      "cell_type": "code",
      "source": [
        "iris.columns # 4개의 피쳐 -> 1개의 target"
      ],
      "metadata": {
        "colab": {
          "base_uri": "https://localhost:8080/"
        },
        "id": "wTu_imAZajFe",
        "outputId": "78005179-49b2-468d-9e17-ebf6f517519a"
      },
      "execution_count": 46,
      "outputs": [
        {
          "output_type": "execute_result",
          "data": {
            "text/plain": [
              "Index(['id', 'sepal length (cm)', 'sepal width (cm)', 'petal length (cm)',\n",
              "       'petal width (cm)', 'species'],\n",
              "      dtype='object')"
            ]
          },
          "metadata": {},
          "execution_count": 46
        }
      ]
    },
    {
      "cell_type": "code",
      "source": [
        "iris.shape # 형상 (150*6 matrix -> 150개의 칼럼과 6개의 피쳐)"
      ],
      "metadata": {
        "colab": {
          "base_uri": "https://localhost:8080/"
        },
        "id": "BRMWKz8Ganb3",
        "outputId": "6d5079cc-7e67-48d2-969d-1aca8a03caa7"
      },
      "execution_count": 47,
      "outputs": [
        {
          "output_type": "execute_result",
          "data": {
            "text/plain": [
              "(120, 6)"
            ]
          },
          "metadata": {},
          "execution_count": 47
        }
      ]
    },
    {
      "cell_type": "code",
      "source": [
        "iris.info() # null이나 자료형에 대한 정보"
      ],
      "metadata": {
        "colab": {
          "base_uri": "https://localhost:8080/"
        },
        "id": "hUKw3R05aq4S",
        "outputId": "ed6e8c4b-4122-40ec-aa2c-dad5e582fa32"
      },
      "execution_count": 48,
      "outputs": [
        {
          "output_type": "stream",
          "name": "stdout",
          "text": [
            "<class 'pandas.core.frame.DataFrame'>\n",
            "RangeIndex: 120 entries, 0 to 119\n",
            "Data columns (total 6 columns):\n",
            " #   Column             Non-Null Count  Dtype  \n",
            "---  ------             --------------  -----  \n",
            " 0   id                 120 non-null    int64  \n",
            " 1   sepal length (cm)  120 non-null    float64\n",
            " 2   sepal width (cm)   120 non-null    float64\n",
            " 3   petal length (cm)  120 non-null    float64\n",
            " 4   petal width (cm)   120 non-null    float64\n",
            " 5   species            120 non-null    int64  \n",
            "dtypes: float64(4), int64(2)\n",
            "memory usage: 5.8 KB\n"
          ]
        }
      ]
    },
    {
      "cell_type": "code",
      "source": [
        "iris.describe() # iris 데이터셋 내에 있는 데이터에 대한 정보 (count, mean, IQR)"
      ],
      "metadata": {
        "colab": {
          "base_uri": "https://localhost:8080/",
          "height": 379
        },
        "id": "_vgZH1ESatOx",
        "outputId": "619cb0be-c550-4388-bdc6-7f15309289ab"
      },
      "execution_count": 51,
      "outputs": [
        {
          "output_type": "execute_result",
          "data": {
            "text/plain": [
              "               id  sepal length (cm)  sepal width (cm)  petal length (cm)  \\\n",
              "count  120.000000         120.000000        120.000000         120.000000   \n",
              "mean    59.500000           5.809167          3.061667           3.726667   \n",
              "std     34.785054           0.823805          0.449123           1.752345   \n",
              "min      0.000000           4.300000          2.000000           1.000000   \n",
              "25%     29.750000           5.100000          2.800000           1.500000   \n",
              "50%     59.500000           5.750000          3.000000           4.250000   \n",
              "75%     89.250000           6.400000          3.400000           5.100000   \n",
              "max    119.000000           7.700000          4.400000           6.700000   \n",
              "\n",
              "       petal width (cm)     species  \n",
              "count        120.000000  120.000000  \n",
              "mean           1.183333    0.991667  \n",
              "std            0.752289    0.814736  \n",
              "min            0.100000    0.000000  \n",
              "25%            0.300000    0.000000  \n",
              "50%            1.300000    1.000000  \n",
              "75%            1.800000    2.000000  \n",
              "max            2.500000    2.000000  "
            ],
            "text/html": [
              "\n",
              "  <div id=\"df-557ca3c7-44c4-4e0e-93ba-bda0c067cfed\">\n",
              "    <div class=\"colab-df-container\">\n",
              "      <div>\n",
              "<style scoped>\n",
              "    .dataframe tbody tr th:only-of-type {\n",
              "        vertical-align: middle;\n",
              "    }\n",
              "\n",
              "    .dataframe tbody tr th {\n",
              "        vertical-align: top;\n",
              "    }\n",
              "\n",
              "    .dataframe thead th {\n",
              "        text-align: right;\n",
              "    }\n",
              "</style>\n",
              "<table border=\"1\" class=\"dataframe\">\n",
              "  <thead>\n",
              "    <tr style=\"text-align: right;\">\n",
              "      <th></th>\n",
              "      <th>id</th>\n",
              "      <th>sepal length (cm)</th>\n",
              "      <th>sepal width (cm)</th>\n",
              "      <th>petal length (cm)</th>\n",
              "      <th>petal width (cm)</th>\n",
              "      <th>species</th>\n",
              "    </tr>\n",
              "  </thead>\n",
              "  <tbody>\n",
              "    <tr>\n",
              "      <th>count</th>\n",
              "      <td>120.000000</td>\n",
              "      <td>120.000000</td>\n",
              "      <td>120.000000</td>\n",
              "      <td>120.000000</td>\n",
              "      <td>120.000000</td>\n",
              "      <td>120.000000</td>\n",
              "    </tr>\n",
              "    <tr>\n",
              "      <th>mean</th>\n",
              "      <td>59.500000</td>\n",
              "      <td>5.809167</td>\n",
              "      <td>3.061667</td>\n",
              "      <td>3.726667</td>\n",
              "      <td>1.183333</td>\n",
              "      <td>0.991667</td>\n",
              "    </tr>\n",
              "    <tr>\n",
              "      <th>std</th>\n",
              "      <td>34.785054</td>\n",
              "      <td>0.823805</td>\n",
              "      <td>0.449123</td>\n",
              "      <td>1.752345</td>\n",
              "      <td>0.752289</td>\n",
              "      <td>0.814736</td>\n",
              "    </tr>\n",
              "    <tr>\n",
              "      <th>min</th>\n",
              "      <td>0.000000</td>\n",
              "      <td>4.300000</td>\n",
              "      <td>2.000000</td>\n",
              "      <td>1.000000</td>\n",
              "      <td>0.100000</td>\n",
              "      <td>0.000000</td>\n",
              "    </tr>\n",
              "    <tr>\n",
              "      <th>25%</th>\n",
              "      <td>29.750000</td>\n",
              "      <td>5.100000</td>\n",
              "      <td>2.800000</td>\n",
              "      <td>1.500000</td>\n",
              "      <td>0.300000</td>\n",
              "      <td>0.000000</td>\n",
              "    </tr>\n",
              "    <tr>\n",
              "      <th>50%</th>\n",
              "      <td>59.500000</td>\n",
              "      <td>5.750000</td>\n",
              "      <td>3.000000</td>\n",
              "      <td>4.250000</td>\n",
              "      <td>1.300000</td>\n",
              "      <td>1.000000</td>\n",
              "    </tr>\n",
              "    <tr>\n",
              "      <th>75%</th>\n",
              "      <td>89.250000</td>\n",
              "      <td>6.400000</td>\n",
              "      <td>3.400000</td>\n",
              "      <td>5.100000</td>\n",
              "      <td>1.800000</td>\n",
              "      <td>2.000000</td>\n",
              "    </tr>\n",
              "    <tr>\n",
              "      <th>max</th>\n",
              "      <td>119.000000</td>\n",
              "      <td>7.700000</td>\n",
              "      <td>4.400000</td>\n",
              "      <td>6.700000</td>\n",
              "      <td>2.500000</td>\n",
              "      <td>2.000000</td>\n",
              "    </tr>\n",
              "  </tbody>\n",
              "</table>\n",
              "</div>\n",
              "      <button class=\"colab-df-convert\" onclick=\"convertToInteractive('df-557ca3c7-44c4-4e0e-93ba-bda0c067cfed')\"\n",
              "              title=\"Convert this dataframe to an interactive table.\"\n",
              "              style=\"display:none;\">\n",
              "        \n",
              "  <svg xmlns=\"http://www.w3.org/2000/svg\" height=\"24px\"viewBox=\"0 0 24 24\"\n",
              "       width=\"24px\">\n",
              "    <path d=\"M0 0h24v24H0V0z\" fill=\"none\"/>\n",
              "    <path d=\"M18.56 5.44l.94 2.06.94-2.06 2.06-.94-2.06-.94-.94-2.06-.94 2.06-2.06.94zm-11 1L8.5 8.5l.94-2.06 2.06-.94-2.06-.94L8.5 2.5l-.94 2.06-2.06.94zm10 10l.94 2.06.94-2.06 2.06-.94-2.06-.94-.94-2.06-.94 2.06-2.06.94z\"/><path d=\"M17.41 7.96l-1.37-1.37c-.4-.4-.92-.59-1.43-.59-.52 0-1.04.2-1.43.59L10.3 9.45l-7.72 7.72c-.78.78-.78 2.05 0 2.83L4 21.41c.39.39.9.59 1.41.59.51 0 1.02-.2 1.41-.59l7.78-7.78 2.81-2.81c.8-.78.8-2.07 0-2.86zM5.41 20L4 18.59l7.72-7.72 1.47 1.35L5.41 20z\"/>\n",
              "  </svg>\n",
              "      </button>\n",
              "      \n",
              "  <style>\n",
              "    .colab-df-container {\n",
              "      display:flex;\n",
              "      flex-wrap:wrap;\n",
              "      gap: 12px;\n",
              "    }\n",
              "\n",
              "    .colab-df-convert {\n",
              "      background-color: #E8F0FE;\n",
              "      border: none;\n",
              "      border-radius: 50%;\n",
              "      cursor: pointer;\n",
              "      display: none;\n",
              "      fill: #1967D2;\n",
              "      height: 32px;\n",
              "      padding: 0 0 0 0;\n",
              "      width: 32px;\n",
              "    }\n",
              "\n",
              "    .colab-df-convert:hover {\n",
              "      background-color: #E2EBFA;\n",
              "      box-shadow: 0px 1px 2px rgba(60, 64, 67, 0.3), 0px 1px 3px 1px rgba(60, 64, 67, 0.15);\n",
              "      fill: #174EA6;\n",
              "    }\n",
              "\n",
              "    [theme=dark] .colab-df-convert {\n",
              "      background-color: #3B4455;\n",
              "      fill: #D2E3FC;\n",
              "    }\n",
              "\n",
              "    [theme=dark] .colab-df-convert:hover {\n",
              "      background-color: #434B5C;\n",
              "      box-shadow: 0px 1px 3px 1px rgba(0, 0, 0, 0.15);\n",
              "      filter: drop-shadow(0px 1px 2px rgba(0, 0, 0, 0.3));\n",
              "      fill: #FFFFFF;\n",
              "    }\n",
              "  </style>\n",
              "\n",
              "      <script>\n",
              "        const buttonEl =\n",
              "          document.querySelector('#df-557ca3c7-44c4-4e0e-93ba-bda0c067cfed button.colab-df-convert');\n",
              "        buttonEl.style.display =\n",
              "          google.colab.kernel.accessAllowed ? 'block' : 'none';\n",
              "\n",
              "        async function convertToInteractive(key) {\n",
              "          const element = document.querySelector('#df-557ca3c7-44c4-4e0e-93ba-bda0c067cfed');\n",
              "          const dataTable =\n",
              "            await google.colab.kernel.invokeFunction('convertToInteractive',\n",
              "                                                     [key], {});\n",
              "          if (!dataTable) return;\n",
              "\n",
              "          const docLinkHtml = 'Like what you see? Visit the ' +\n",
              "            '<a target=\"_blank\" href=https://colab.research.google.com/notebooks/data_table.ipynb>data table notebook</a>'\n",
              "            + ' to learn more about interactive tables.';\n",
              "          element.innerHTML = '';\n",
              "          dataTable['output_type'] = 'display_data';\n",
              "          await google.colab.output.renderOutput(dataTable, element);\n",
              "          const docLink = document.createElement('div');\n",
              "          docLink.innerHTML = docLinkHtml;\n",
              "          element.appendChild(docLink);\n",
              "        }\n",
              "      </script>\n",
              "    </div>\n",
              "  </div>\n",
              "  "
            ]
          },
          "metadata": {},
          "execution_count": 51
        }
      ]
    },
    {
      "cell_type": "code",
      "source": [
        "iris['sepal length (cm)'].value_counts() # count 개수"
      ],
      "metadata": {
        "colab": {
          "base_uri": "https://localhost:8080/"
        },
        "id": "FdpQY2_haxZ-",
        "outputId": "1eac8a40-bd89-4ca8-adac-f2edc4341ebd"
      },
      "execution_count": 54,
      "outputs": [
        {
          "output_type": "execute_result",
          "data": {
            "text/plain": [
              "5.0    9\n",
              "5.1    8\n",
              "6.3    8\n",
              "6.7    6\n",
              "5.7    6\n",
              "5.8    6\n",
              "5.5    6\n",
              "4.9    5\n",
              "6.4    5\n",
              "6.0    5\n",
              "5.4    5\n",
              "5.6    4\n",
              "6.1    4\n",
              "4.6    4\n",
              "5.2    4\n",
              "7.2    3\n",
              "7.7    3\n",
              "6.2    3\n",
              "4.4    3\n",
              "5.9    3\n",
              "6.9    3\n",
              "6.5    3\n",
              "6.6    2\n",
              "4.8    2\n",
              "4.5    1\n",
              "7.4    1\n",
              "7.3    1\n",
              "5.3    1\n",
              "4.3    1\n",
              "7.0    1\n",
              "4.7    1\n",
              "6.8    1\n",
              "7.6    1\n",
              "7.1    1\n",
              "Name: sepal length (cm), dtype: int64"
            ]
          },
          "metadata": {},
          "execution_count": 54
        }
      ]
    },
    {
      "cell_type": "code",
      "source": [
        "iris['sepal length (cm)'].value_counts(normalize = True) # count 비율인데 합이 1"
      ],
      "metadata": {
        "colab": {
          "base_uri": "https://localhost:8080/"
        },
        "id": "v6M984CWbAqb",
        "outputId": "0b6191d0-acf3-47ea-d556-1424359bd490"
      },
      "execution_count": 57,
      "outputs": [
        {
          "output_type": "execute_result",
          "data": {
            "text/plain": [
              "5.0    0.075000\n",
              "5.1    0.066667\n",
              "6.3    0.066667\n",
              "6.7    0.050000\n",
              "5.7    0.050000\n",
              "5.8    0.050000\n",
              "5.5    0.050000\n",
              "4.9    0.041667\n",
              "6.4    0.041667\n",
              "6.0    0.041667\n",
              "5.4    0.041667\n",
              "5.6    0.033333\n",
              "6.1    0.033333\n",
              "4.6    0.033333\n",
              "5.2    0.033333\n",
              "7.2    0.025000\n",
              "7.7    0.025000\n",
              "6.2    0.025000\n",
              "4.4    0.025000\n",
              "5.9    0.025000\n",
              "6.9    0.025000\n",
              "6.5    0.025000\n",
              "6.6    0.016667\n",
              "4.8    0.016667\n",
              "4.5    0.008333\n",
              "7.4    0.008333\n",
              "7.3    0.008333\n",
              "5.3    0.008333\n",
              "4.3    0.008333\n",
              "7.0    0.008333\n",
              "4.7    0.008333\n",
              "6.8    0.008333\n",
              "7.6    0.008333\n",
              "7.1    0.008333\n",
              "Name: sepal length (cm), dtype: float64"
            ]
          },
          "metadata": {},
          "execution_count": 57
        }
      ]
    },
    {
      "cell_type": "code",
      "source": [
        "iris['sepal length (cm)'].unique() # iris 데이터셋에 있는 유니크한 값들 전부"
      ],
      "metadata": {
        "id": "pJt1idKEbHAa",
        "outputId": "7bf12789-fff1-4bb2-c7c1-f7307b499c9f",
        "colab": {
          "base_uri": "https://localhost:8080/"
        }
      },
      "execution_count": 58,
      "outputs": [
        {
          "output_type": "execute_result",
          "data": {
            "text/plain": [
              "array([4.6, 5.7, 6.7, 4.8, 4.4, 6.3, 6.4, 5.2, 5. , 5.8, 6. , 5.4, 5.5,\n",
              "       6.6, 7.2, 7.6, 5.6, 5.1, 7.7, 6.2, 4.9, 5.9, 6.9, 6.1, 4.3, 6.8,\n",
              "       4.7, 6.5, 7. , 4.5, 5.3, 7.3, 7.4, 7.1])"
            ]
          },
          "metadata": {},
          "execution_count": 58
        }
      ]
    },
    {
      "cell_type": "code",
      "source": [
        "# boxplot\n",
        "\n",
        "import matplotlib.pyplot as plt\n",
        "import seaborn as submission\n",
        "plt.boxplot(iris['sepal length (cm)'])"
      ],
      "metadata": {
        "colab": {
          "base_uri": "https://localhost:8080/",
          "height": 408
        },
        "id": "vxkvVn389clN",
        "outputId": "9559b41c-c0a8-4bf4-a29e-7e2704a0377f"
      },
      "execution_count": 61,
      "outputs": [
        {
          "output_type": "execute_result",
          "data": {
            "text/plain": [
              "{'whiskers': [<matplotlib.lines.Line2D at 0x7f803119b160>,\n",
              "  <matplotlib.lines.Line2D at 0x7f803119b430>],\n",
              " 'caps': [<matplotlib.lines.Line2D at 0x7f803119b700>,\n",
              "  <matplotlib.lines.Line2D at 0x7f803119b9d0>],\n",
              " 'boxes': [<matplotlib.lines.Line2D at 0x7f803120be50>],\n",
              " 'medians': [<matplotlib.lines.Line2D at 0x7f803119bca0>],\n",
              " 'fliers': [<matplotlib.lines.Line2D at 0x7f803119bf70>],\n",
              " 'means': []}"
            ]
          },
          "metadata": {},
          "execution_count": 61
        },
        {
          "output_type": "display_data",
          "data": {
            "text/plain": [
              "<Figure size 432x288 with 1 Axes>"
            ],
            "image/png": "[encoded data removed]"
          },
          "metadata": {
            "needs_background": "light"
          }
        }
      ]
    },
    {
      "cell_type": "code",
      "source": [
        "iris['sepal length (cm)'].hist(bins = 20, figsize = (10, 5))"
      ],
      "metadata": {
        "colab": {
          "base_uri": "https://localhost:8080/",
          "height": 338
        },
        "id": "kN3wETWkARDV",
        "outputId": "afc0519e-396a-4e42-d743-5646dbc01157"
      },
      "execution_count": 64,
      "outputs": [
        {
          "output_type": "execute_result",
          "data": {
            "text/plain": [
              "<AxesSubplot:>"
            ]
          },
          "metadata": {},
          "execution_count": 64
        },
        {
          "output_type": "display_data",
          "data": {
            "text/plain": [
              "<Figure size 720x360 with 1 Axes>"
            ],
            "image/png": "[encoded data removed]"
          },
          "metadata": {
            "needs_background": "light"
          }
        }
      ]
    },
    {
      "cell_type": "code",
      "source": [
        "plt.boxplot(iris['sepal width (cm)'])"
      ],
      "metadata": {
        "colab": {
          "base_uri": "https://localhost:8080/",
          "height": 411
        },
        "id": "O7BXMnEP_5Su",
        "outputId": "d6aab6a0-d1d4-4de3-b2e0-c821fa8a8b80"
      },
      "execution_count": 62,
      "outputs": [
        {
          "output_type": "execute_result",
          "data": {
            "text/plain": [
              "{'whiskers': [<matplotlib.lines.Line2D at 0x7f803117ac70>,\n",
              "  <matplotlib.lines.Line2D at 0x7f803117af40>],\n",
              " 'caps': [<matplotlib.lines.Line2D at 0x7f8031188250>,\n",
              "  <matplotlib.lines.Line2D at 0x7f8031188520>],\n",
              " 'boxes': [<matplotlib.lines.Line2D at 0x7f803117a9a0>],\n",
              " 'medians': [<matplotlib.lines.Line2D at 0x7f80311887f0>],\n",
              " 'fliers': [<matplotlib.lines.Line2D at 0x7f8031188ac0>],\n",
              " 'means': []}"
            ]
          },
          "metadata": {},
          "execution_count": 62
        },
        {
          "output_type": "display_data",
          "data": {
            "text/plain": [
              "<Figure size 432x288 with 1 Axes>"
            ],
            "image/png": "[encoded data removed]"
          },
          "metadata": {
            "needs_background": "light"
          }
        }
      ]
    },
    {
      "cell_type": "code",
      "source": [
        "iris['sepal width (cm)'].hist(bins = 20, figsize = (10, 5))"
      ],
      "metadata": {
        "colab": {
          "base_uri": "https://localhost:8080/",
          "height": 338
        },
        "id": "HE1VSnicA2kw",
        "outputId": "04b249c8-b73f-4cae-c0b6-b28daedcb68f"
      },
      "execution_count": 65,
      "outputs": [
        {
          "output_type": "execute_result",
          "data": {
            "text/plain": [
              "<AxesSubplot:>"
            ]
          },
          "metadata": {},
          "execution_count": 65
        },
        {
          "output_type": "display_data",
          "data": {
            "text/plain": [
              "<Figure size 720x360 with 1 Axes>"
            ],
            "image/png": "[encoded data removed]"
          },
          "metadata": {
            "needs_background": "light"
          }
        }
      ]
    },
    {
      "cell_type": "code",
      "source": [
        "plt.boxplot(iris['petal width (cm)'])"
      ],
      "metadata": {
        "colab": {
          "base_uri": "https://localhost:8080/",
          "height": 408
        },
        "id": "Albuvy4sBUGl",
        "outputId": "6895605b-d94f-4472-d816-4722431177c5"
      },
      "execution_count": 70,
      "outputs": [
        {
          "output_type": "execute_result",
          "data": {
            "text/plain": [
              "{'whiskers': [<matplotlib.lines.Line2D at 0x7f802f200d60>,\n",
              "  <matplotlib.lines.Line2D at 0x7f802f20f070>],\n",
              " 'caps': [<matplotlib.lines.Line2D at 0x7f802f20f340>,\n",
              "  <matplotlib.lines.Line2D at 0x7f802f20f610>],\n",
              " 'boxes': [<matplotlib.lines.Line2D at 0x7f802f200a90>],\n",
              " 'medians': [<matplotlib.lines.Line2D at 0x7f802f20f8e0>],\n",
              " 'fliers': [<matplotlib.lines.Line2D at 0x7f802f20fbb0>],\n",
              " 'means': []}"
            ]
          },
          "metadata": {},
          "execution_count": 70
        },
        {
          "output_type": "display_data",
          "data": {
            "text/plain": [
              "<Figure size 432x288 with 1 Axes>"
            ],
            "image/png": "[encoded data removed]"
          },
          "metadata": {
            "needs_background": "light"
          }
        }
      ]
    },
    {
      "cell_type": "code",
      "source": [
        "iris['petal width (cm)'].hist(bins = 20, figsize = (10, 5))"
      ],
      "metadata": {
        "colab": {
          "base_uri": "https://localhost:8080/",
          "height": 338
        },
        "id": "OnzL2CtLBi8W",
        "outputId": "66dd523d-af75-4a1b-9e98-ee079f2776e1"
      },
      "execution_count": 71,
      "outputs": [
        {
          "output_type": "execute_result",
          "data": {
            "text/plain": [
              "<AxesSubplot:>"
            ]
          },
          "metadata": {},
          "execution_count": 71
        },
        {
          "output_type": "display_data",
          "data": {
            "text/plain": [
              "<Figure size 720x360 with 1 Axes>"
            ],
            "image/png": "[encoded data removed]"
          },
          "metadata": {
            "needs_background": "light"
          }
        }
      ]
    },
    {
      "cell_type": "code",
      "source": [
        "plt.boxplot(iris['petal length (cm)'])"
      ],
      "metadata": {
        "colab": {
          "base_uri": "https://localhost:8080/",
          "height": 408
        },
        "id": "zrH12xiLBoEE",
        "outputId": "8da7de93-cafb-40a8-db9e-073f7e0d01e9"
      },
      "execution_count": 72,
      "outputs": [
        {
          "output_type": "execute_result",
          "data": {
            "text/plain": [
              "{'whiskers': [<matplotlib.lines.Line2D at 0x7f802f175fd0>,\n",
              "  <matplotlib.lines.Line2D at 0x7f802f1032e0>],\n",
              " 'caps': [<matplotlib.lines.Line2D at 0x7f802f1035b0>,\n",
              "  <matplotlib.lines.Line2D at 0x7f802f103880>],\n",
              " 'boxes': [<matplotlib.lines.Line2D at 0x7f802f175d00>],\n",
              " 'medians': [<matplotlib.lines.Line2D at 0x7f802f103af0>],\n",
              " 'fliers': [<matplotlib.lines.Line2D at 0x7f802f103dc0>],\n",
              " 'means': []}"
            ]
          },
          "metadata": {},
          "execution_count": 72
        },
        {
          "output_type": "display_data",
          "data": {
            "text/plain": [
              "<Figure size 432x288 with 1 Axes>"
            ],
            "image/png": "[encoded data removed]"
          },
          "metadata": {
            "needs_background": "light"
          }
        }
      ]
    },
    {
      "cell_type": "code",
      "source": [
        "iris['petal length (cm)'].hist(bins = 20, figsize = (10, 5))"
      ],
      "metadata": {
        "colab": {
          "base_uri": "https://localhost:8080/",
          "height": 338
        },
        "id": "rMG_C3TxBpyU",
        "outputId": "19760d78-bbe9-491e-bc58-a2656ac5c766"
      },
      "execution_count": 73,
      "outputs": [
        {
          "output_type": "execute_result",
          "data": {
            "text/plain": [
              "<AxesSubplot:>"
            ]
          },
          "metadata": {},
          "execution_count": 73
        },
        {
          "output_type": "display_data",
          "data": {
            "text/plain": [
              "<Figure size 720x360 with 1 Axes>"
            ],
            "image/png": "[encoded data removed]"
          },
          "metadata": {
            "needs_background": "light"
          }
        }
      ]
    }
  ]
}